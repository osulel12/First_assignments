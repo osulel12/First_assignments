{
 "cells": [
  {
   "cell_type": "code",
   "execution_count": 125,
   "metadata": {},
   "outputs": [],
   "source": [
    "import pandas as pd\n",
    "import numpy as np"
   ]
  },
  {
   "cell_type": "code",
   "execution_count": 2,
   "metadata": {},
   "outputs": [
    {
     "ename": "FileNotFoundError",
     "evalue": "[Errno 2] No such file or directory: 'C:/Users/1233-/Downloads/Pokemon.csv'",
     "output_type": "error",
     "traceback": [
      "\u001b[1;31m---------------------------------------------------------------------------\u001b[0m",
      "\u001b[1;31mFileNotFoundError\u001b[0m                         Traceback (most recent call last)",
      "\u001b[1;32m<ipython-input-2-7303ab50bbc1>\u001b[0m in \u001b[0;36m<module>\u001b[1;34m\u001b[0m\n\u001b[1;32m----> 1\u001b[1;33m \u001b[0mpokemon\u001b[0m \u001b[1;33m=\u001b[0m \u001b[0mpd\u001b[0m\u001b[1;33m.\u001b[0m\u001b[0mread_csv\u001b[0m\u001b[1;33m(\u001b[0m\u001b[1;34m'C:/Users/1233-/Downloads/Pokemon.csv'\u001b[0m\u001b[1;33m)\u001b[0m\u001b[1;33m\u001b[0m\u001b[1;33m\u001b[0m\u001b[0m\n\u001b[0m",
      "\u001b[1;32m~\\anaconda3\\lib\\site-packages\\pandas\\io\\parsers.py\u001b[0m in \u001b[0;36mread_csv\u001b[1;34m(filepath_or_buffer, sep, delimiter, header, names, index_col, usecols, squeeze, prefix, mangle_dupe_cols, dtype, engine, converters, true_values, false_values, skipinitialspace, skiprows, skipfooter, nrows, na_values, keep_default_na, na_filter, verbose, skip_blank_lines, parse_dates, infer_datetime_format, keep_date_col, date_parser, dayfirst, cache_dates, iterator, chunksize, compression, thousands, decimal, lineterminator, quotechar, quoting, doublequote, escapechar, comment, encoding, dialect, error_bad_lines, warn_bad_lines, delim_whitespace, low_memory, memory_map, float_precision)\u001b[0m\n\u001b[0;32m    684\u001b[0m     )\n\u001b[0;32m    685\u001b[0m \u001b[1;33m\u001b[0m\u001b[0m\n\u001b[1;32m--> 686\u001b[1;33m     \u001b[1;32mreturn\u001b[0m \u001b[0m_read\u001b[0m\u001b[1;33m(\u001b[0m\u001b[0mfilepath_or_buffer\u001b[0m\u001b[1;33m,\u001b[0m \u001b[0mkwds\u001b[0m\u001b[1;33m)\u001b[0m\u001b[1;33m\u001b[0m\u001b[1;33m\u001b[0m\u001b[0m\n\u001b[0m\u001b[0;32m    687\u001b[0m \u001b[1;33m\u001b[0m\u001b[0m\n\u001b[0;32m    688\u001b[0m \u001b[1;33m\u001b[0m\u001b[0m\n",
      "\u001b[1;32m~\\anaconda3\\lib\\site-packages\\pandas\\io\\parsers.py\u001b[0m in \u001b[0;36m_read\u001b[1;34m(filepath_or_buffer, kwds)\u001b[0m\n\u001b[0;32m    450\u001b[0m \u001b[1;33m\u001b[0m\u001b[0m\n\u001b[0;32m    451\u001b[0m     \u001b[1;31m# Create the parser.\u001b[0m\u001b[1;33m\u001b[0m\u001b[1;33m\u001b[0m\u001b[1;33m\u001b[0m\u001b[0m\n\u001b[1;32m--> 452\u001b[1;33m     \u001b[0mparser\u001b[0m \u001b[1;33m=\u001b[0m \u001b[0mTextFileReader\u001b[0m\u001b[1;33m(\u001b[0m\u001b[0mfp_or_buf\u001b[0m\u001b[1;33m,\u001b[0m \u001b[1;33m**\u001b[0m\u001b[0mkwds\u001b[0m\u001b[1;33m)\u001b[0m\u001b[1;33m\u001b[0m\u001b[1;33m\u001b[0m\u001b[0m\n\u001b[0m\u001b[0;32m    453\u001b[0m \u001b[1;33m\u001b[0m\u001b[0m\n\u001b[0;32m    454\u001b[0m     \u001b[1;32mif\u001b[0m \u001b[0mchunksize\u001b[0m \u001b[1;32mor\u001b[0m \u001b[0miterator\u001b[0m\u001b[1;33m:\u001b[0m\u001b[1;33m\u001b[0m\u001b[1;33m\u001b[0m\u001b[0m\n",
      "\u001b[1;32m~\\anaconda3\\lib\\site-packages\\pandas\\io\\parsers.py\u001b[0m in \u001b[0;36m__init__\u001b[1;34m(self, f, engine, **kwds)\u001b[0m\n\u001b[0;32m    944\u001b[0m             \u001b[0mself\u001b[0m\u001b[1;33m.\u001b[0m\u001b[0moptions\u001b[0m\u001b[1;33m[\u001b[0m\u001b[1;34m\"has_index_names\"\u001b[0m\u001b[1;33m]\u001b[0m \u001b[1;33m=\u001b[0m \u001b[0mkwds\u001b[0m\u001b[1;33m[\u001b[0m\u001b[1;34m\"has_index_names\"\u001b[0m\u001b[1;33m]\u001b[0m\u001b[1;33m\u001b[0m\u001b[1;33m\u001b[0m\u001b[0m\n\u001b[0;32m    945\u001b[0m \u001b[1;33m\u001b[0m\u001b[0m\n\u001b[1;32m--> 946\u001b[1;33m         \u001b[0mself\u001b[0m\u001b[1;33m.\u001b[0m\u001b[0m_make_engine\u001b[0m\u001b[1;33m(\u001b[0m\u001b[0mself\u001b[0m\u001b[1;33m.\u001b[0m\u001b[0mengine\u001b[0m\u001b[1;33m)\u001b[0m\u001b[1;33m\u001b[0m\u001b[1;33m\u001b[0m\u001b[0m\n\u001b[0m\u001b[0;32m    947\u001b[0m \u001b[1;33m\u001b[0m\u001b[0m\n\u001b[0;32m    948\u001b[0m     \u001b[1;32mdef\u001b[0m \u001b[0mclose\u001b[0m\u001b[1;33m(\u001b[0m\u001b[0mself\u001b[0m\u001b[1;33m)\u001b[0m\u001b[1;33m:\u001b[0m\u001b[1;33m\u001b[0m\u001b[1;33m\u001b[0m\u001b[0m\n",
      "\u001b[1;32m~\\anaconda3\\lib\\site-packages\\pandas\\io\\parsers.py\u001b[0m in \u001b[0;36m_make_engine\u001b[1;34m(self, engine)\u001b[0m\n\u001b[0;32m   1176\u001b[0m     \u001b[1;32mdef\u001b[0m \u001b[0m_make_engine\u001b[0m\u001b[1;33m(\u001b[0m\u001b[0mself\u001b[0m\u001b[1;33m,\u001b[0m \u001b[0mengine\u001b[0m\u001b[1;33m=\u001b[0m\u001b[1;34m\"c\"\u001b[0m\u001b[1;33m)\u001b[0m\u001b[1;33m:\u001b[0m\u001b[1;33m\u001b[0m\u001b[1;33m\u001b[0m\u001b[0m\n\u001b[0;32m   1177\u001b[0m         \u001b[1;32mif\u001b[0m \u001b[0mengine\u001b[0m \u001b[1;33m==\u001b[0m \u001b[1;34m\"c\"\u001b[0m\u001b[1;33m:\u001b[0m\u001b[1;33m\u001b[0m\u001b[1;33m\u001b[0m\u001b[0m\n\u001b[1;32m-> 1178\u001b[1;33m             \u001b[0mself\u001b[0m\u001b[1;33m.\u001b[0m\u001b[0m_engine\u001b[0m \u001b[1;33m=\u001b[0m \u001b[0mCParserWrapper\u001b[0m\u001b[1;33m(\u001b[0m\u001b[0mself\u001b[0m\u001b[1;33m.\u001b[0m\u001b[0mf\u001b[0m\u001b[1;33m,\u001b[0m \u001b[1;33m**\u001b[0m\u001b[0mself\u001b[0m\u001b[1;33m.\u001b[0m\u001b[0moptions\u001b[0m\u001b[1;33m)\u001b[0m\u001b[1;33m\u001b[0m\u001b[1;33m\u001b[0m\u001b[0m\n\u001b[0m\u001b[0;32m   1179\u001b[0m         \u001b[1;32melse\u001b[0m\u001b[1;33m:\u001b[0m\u001b[1;33m\u001b[0m\u001b[1;33m\u001b[0m\u001b[0m\n\u001b[0;32m   1180\u001b[0m             \u001b[1;32mif\u001b[0m \u001b[0mengine\u001b[0m \u001b[1;33m==\u001b[0m \u001b[1;34m\"python\"\u001b[0m\u001b[1;33m:\u001b[0m\u001b[1;33m\u001b[0m\u001b[1;33m\u001b[0m\u001b[0m\n",
      "\u001b[1;32m~\\anaconda3\\lib\\site-packages\\pandas\\io\\parsers.py\u001b[0m in \u001b[0;36m__init__\u001b[1;34m(self, src, **kwds)\u001b[0m\n\u001b[0;32m   2006\u001b[0m         \u001b[0mkwds\u001b[0m\u001b[1;33m[\u001b[0m\u001b[1;34m\"usecols\"\u001b[0m\u001b[1;33m]\u001b[0m \u001b[1;33m=\u001b[0m \u001b[0mself\u001b[0m\u001b[1;33m.\u001b[0m\u001b[0musecols\u001b[0m\u001b[1;33m\u001b[0m\u001b[1;33m\u001b[0m\u001b[0m\n\u001b[0;32m   2007\u001b[0m \u001b[1;33m\u001b[0m\u001b[0m\n\u001b[1;32m-> 2008\u001b[1;33m         \u001b[0mself\u001b[0m\u001b[1;33m.\u001b[0m\u001b[0m_reader\u001b[0m \u001b[1;33m=\u001b[0m \u001b[0mparsers\u001b[0m\u001b[1;33m.\u001b[0m\u001b[0mTextReader\u001b[0m\u001b[1;33m(\u001b[0m\u001b[0msrc\u001b[0m\u001b[1;33m,\u001b[0m \u001b[1;33m**\u001b[0m\u001b[0mkwds\u001b[0m\u001b[1;33m)\u001b[0m\u001b[1;33m\u001b[0m\u001b[1;33m\u001b[0m\u001b[0m\n\u001b[0m\u001b[0;32m   2009\u001b[0m         \u001b[0mself\u001b[0m\u001b[1;33m.\u001b[0m\u001b[0munnamed_cols\u001b[0m \u001b[1;33m=\u001b[0m \u001b[0mself\u001b[0m\u001b[1;33m.\u001b[0m\u001b[0m_reader\u001b[0m\u001b[1;33m.\u001b[0m\u001b[0munnamed_cols\u001b[0m\u001b[1;33m\u001b[0m\u001b[1;33m\u001b[0m\u001b[0m\n\u001b[0;32m   2010\u001b[0m \u001b[1;33m\u001b[0m\u001b[0m\n",
      "\u001b[1;32mpandas\\_libs\\parsers.pyx\u001b[0m in \u001b[0;36mpandas._libs.parsers.TextReader.__cinit__\u001b[1;34m()\u001b[0m\n",
      "\u001b[1;32mpandas\\_libs\\parsers.pyx\u001b[0m in \u001b[0;36mpandas._libs.parsers.TextReader._setup_parser_source\u001b[1;34m()\u001b[0m\n",
      "\u001b[1;31mFileNotFoundError\u001b[0m: [Errno 2] No such file or directory: 'C:/Users/1233-/Downloads/Pokemon.csv'"
     ]
    }
   ],
   "source": [
    "pokemon = pd.read_csv('C:/Users/1233-/Downloads/Pokemon.csv')"
   ]
  },
  {
   "cell_type": "code",
   "execution_count": null,
   "metadata": {},
   "outputs": [],
   "source": [
    "pokemon"
   ]
  },
  {
   "cell_type": "code",
   "execution_count": null,
   "metadata": {},
   "outputs": [],
   "source": [
    "def rename_columns(path):\n",
    "    return path.lower().replace('. ', '_').replace('#', 'id').replace(' ', '_')\n",
    "\n",
    "pokemon = pokemon.rename(columns=rename_columns)\n",
    "\n",
    "legends= pokemon.groupby('generation').legendary.value_counts().to_frame()"
   ]
  },
  {
   "cell_type": "code",
   "execution_count": null,
   "metadata": {},
   "outputs": [],
   "source": [
    "legends.rename(columns={'legendary': 'legendary_count'}, inplace=True)"
   ]
  },
  {
   "cell_type": "code",
   "execution_count": null,
   "metadata": {},
   "outputs": [],
   "source": [
    "legends_unstacked = legends.unstack()"
   ]
  },
  {
   "cell_type": "code",
   "execution_count": null,
   "metadata": {},
   "outputs": [],
   "source": [
    "pokemon.head()"
   ]
  },
  {
   "cell_type": "code",
   "execution_count": null,
   "metadata": {},
   "outputs": [],
   "source": [
    "# Делаем сразу датафрейм за счет приминение агрегации и после анстакаем\n",
    "pokemon.groupby(['generation', 'type_1']).agg({'legendary': 'sum'}).unstack()"
   ]
  },
  {
   "cell_type": "code",
   "execution_count": null,
   "metadata": {},
   "outputs": [],
   "source": [
    "# Применяем unstack к серии, в процессе получим датафрейм\n",
    "pokemon.groupby(['generation', 'type_1']).legendary.value_counts().unstack() \\\n",
    "    .idxmax()"
   ]
  },
  {
   "cell_type": "code",
   "execution_count": null,
   "metadata": {},
   "outputs": [],
   "source": [
    "pokemon.head()"
   ]
  },
  {
   "cell_type": "code",
   "execution_count": null,
   "metadata": {},
   "outputs": [],
   "source": [
    "pokemon.melt()"
   ]
  },
  {
   "cell_type": "markdown",
   "metadata": {},
   "source": [
    "## Задание под звездочкой новый датафрейм"
   ]
  },
  {
   "cell_type": "code",
   "execution_count": null,
   "metadata": {},
   "outputs": [],
   "source": [
    "df_super = pd.read_csv('C:/Users/1233-/Downloads/superheroes_power_matrix.csv')"
   ]
  },
  {
   "cell_type": "code",
   "execution_count": null,
   "metadata": {},
   "outputs": [],
   "source": [
    "df_super.head()"
   ]
  },
  {
   "cell_type": "code",
   "execution_count": null,
   "metadata": {},
   "outputs": [],
   "source": [
    "superheroes_long =  df_super.melt(id_vars='Name', var_name='superpower')"
   ]
  },
  {
   "cell_type": "code",
   "execution_count": null,
   "metadata": {},
   "outputs": [],
   "source": [
    "superheroes_powers = superheroes_long.query('value == True').groupby('Name').superpower.apply(list).reset_index()"
   ]
  },
  {
   "cell_type": "code",
   "execution_count": null,
   "metadata": {},
   "outputs": [],
   "source": [
    "superheroes_powers"
   ]
  },
  {
   "cell_type": "code",
   "execution_count": null,
   "metadata": {},
   "outputs": [],
   "source": [
    "superheroes_long =  df_super.melt(id_vars='Name', var_name='superpower')\n",
    "\n",
    "superheroes_powers = superheroes_long.query('value == True').groupby('Name').superpower.apply(list).to_frame().reset_index()"
   ]
  },
  {
   "cell_type": "markdown",
   "metadata": {},
   "source": [
    "## Работа с датой"
   ]
  },
  {
   "cell_type": "code",
   "execution_count": 9,
   "metadata": {},
   "outputs": [],
   "source": [
    "bikc_df = pd.read_csv('C:/Users/1233-/Downloads/bikes_q1_sample.csv')"
   ]
  },
  {
   "cell_type": "code",
   "execution_count": 11,
   "metadata": {},
   "outputs": [],
   "source": [
    "# Приводим колонку к типу datetime\n",
    "bikc_df.start_time = pd.to_datetime(bikc_df.start_time)"
   ]
  },
  {
   "cell_type": "code",
   "execution_count": 12,
   "metadata": {},
   "outputs": [
    {
     "data": {
      "text/plain": [
       "(174215, 11)"
      ]
     },
     "execution_count": 12,
     "metadata": {},
     "output_type": "execute_result"
    }
   ],
   "source": [
    "# Делаем ее индексом датафрейма\n",
    "bikc_df = bikc_df.set_index('start_time')\n",
    "bikc_df.shape"
   ]
  },
  {
   "cell_type": "code",
   "execution_count": 19,
   "metadata": {},
   "outputs": [],
   "source": [
    "bikc_df.end_time = pd.to_datetime(bikc_df.end_time)"
   ]
  },
  {
   "cell_type": "code",
   "execution_count": 20,
   "metadata": {},
   "outputs": [
    {
     "data": {
      "text/html": [
       "<div>\n",
       "<style scoped>\n",
       "    .dataframe tbody tr th:only-of-type {\n",
       "        vertical-align: middle;\n",
       "    }\n",
       "\n",
       "    .dataframe tbody tr th {\n",
       "        vertical-align: top;\n",
       "    }\n",
       "\n",
       "    .dataframe thead th {\n",
       "        text-align: right;\n",
       "    }\n",
       "</style>\n",
       "<table border=\"1\" class=\"dataframe\">\n",
       "  <thead>\n",
       "    <tr style=\"text-align: right;\">\n",
       "      <th></th>\n",
       "      <th>trip_id</th>\n",
       "      <th>end_time</th>\n",
       "      <th>bikeid</th>\n",
       "      <th>tripduration</th>\n",
       "      <th>from_station_id</th>\n",
       "      <th>from_station_name</th>\n",
       "      <th>to_station_id</th>\n",
       "      <th>to_station_name</th>\n",
       "      <th>usertype</th>\n",
       "      <th>gender</th>\n",
       "      <th>birthyear</th>\n",
       "    </tr>\n",
       "    <tr>\n",
       "      <th>start_time</th>\n",
       "      <th></th>\n",
       "      <th></th>\n",
       "      <th></th>\n",
       "      <th></th>\n",
       "      <th></th>\n",
       "      <th></th>\n",
       "      <th></th>\n",
       "      <th></th>\n",
       "      <th></th>\n",
       "      <th></th>\n",
       "      <th></th>\n",
       "    </tr>\n",
       "  </thead>\n",
       "  <tbody>\n",
       "    <tr>\n",
       "      <th>2018-01-22 20:04:31</th>\n",
       "      <td>17617135</td>\n",
       "      <td>2018-01-22 20:11:53</td>\n",
       "      <td>1131</td>\n",
       "      <td>442.0</td>\n",
       "      <td>471</td>\n",
       "      <td>Francisco Ave &amp; Foster Ave</td>\n",
       "      <td>468</td>\n",
       "      <td>Budlong Woods Library</td>\n",
       "      <td>Subscriber</td>\n",
       "      <td>Female</td>\n",
       "      <td>1949.0</td>\n",
       "    </tr>\n",
       "    <tr>\n",
       "      <th>2018-03-16 19:47:59</th>\n",
       "      <td>17897619</td>\n",
       "      <td>2018-03-16 20:04:00</td>\n",
       "      <td>6146</td>\n",
       "      <td>961.0</td>\n",
       "      <td>296</td>\n",
       "      <td>Broadway &amp; Belmont Ave</td>\n",
       "      <td>253</td>\n",
       "      <td>Winthrop Ave &amp; Lawrence Ave</td>\n",
       "      <td>Subscriber</td>\n",
       "      <td>Male</td>\n",
       "      <td>1988.0</td>\n",
       "    </tr>\n",
       "    <tr>\n",
       "      <th>2018-03-14 18:49:20</th>\n",
       "      <td>17881307</td>\n",
       "      <td>2018-03-14 18:54:38</td>\n",
       "      <td>3847</td>\n",
       "      <td>318.0</td>\n",
       "      <td>260</td>\n",
       "      <td>Kedzie Ave &amp; Milwaukee Ave</td>\n",
       "      <td>503</td>\n",
       "      <td>Drake Ave &amp; Fullerton Ave</td>\n",
       "      <td>Subscriber</td>\n",
       "      <td>Male</td>\n",
       "      <td>1987.0</td>\n",
       "    </tr>\n",
       "    <tr>\n",
       "      <th>2018-03-14 18:33:48</th>\n",
       "      <td>17881130</td>\n",
       "      <td>2018-03-14 19:07:40</td>\n",
       "      <td>1483</td>\n",
       "      <td>2,032.0</td>\n",
       "      <td>199</td>\n",
       "      <td>Wabash Ave &amp; Grand Ave</td>\n",
       "      <td>199</td>\n",
       "      <td>Wabash Ave &amp; Grand Ave</td>\n",
       "      <td>Subscriber</td>\n",
       "      <td>Male</td>\n",
       "      <td>1990.0</td>\n",
       "    </tr>\n",
       "    <tr>\n",
       "      <th>2018-02-05 17:39:14</th>\n",
       "      <td>17686289</td>\n",
       "      <td>2018-02-05 17:46:13</td>\n",
       "      <td>6391</td>\n",
       "      <td>419.0</td>\n",
       "      <td>596</td>\n",
       "      <td>Benson Ave &amp; Church St</td>\n",
       "      <td>605</td>\n",
       "      <td>University Library (NU)</td>\n",
       "      <td>Subscriber</td>\n",
       "      <td>Male</td>\n",
       "      <td>1992.0</td>\n",
       "    </tr>\n",
       "    <tr>\n",
       "      <th>...</th>\n",
       "      <td>...</td>\n",
       "      <td>...</td>\n",
       "      <td>...</td>\n",
       "      <td>...</td>\n",
       "      <td>...</td>\n",
       "      <td>...</td>\n",
       "      <td>...</td>\n",
       "      <td>...</td>\n",
       "      <td>...</td>\n",
       "      <td>...</td>\n",
       "      <td>...</td>\n",
       "    </tr>\n",
       "    <tr>\n",
       "      <th>2018-02-28 17:16:53</th>\n",
       "      <td>17792363</td>\n",
       "      <td>2018-02-28 17:18:49</td>\n",
       "      <td>2401</td>\n",
       "      <td>116.0</td>\n",
       "      <td>50</td>\n",
       "      <td>Clark St &amp; Congress Pkwy</td>\n",
       "      <td>41</td>\n",
       "      <td>Federal St &amp; Polk St</td>\n",
       "      <td>Subscriber</td>\n",
       "      <td>Male</td>\n",
       "      <td>1991.0</td>\n",
       "    </tr>\n",
       "    <tr>\n",
       "      <th>2018-02-08 11:52:44</th>\n",
       "      <td>17695807</td>\n",
       "      <td>2018-02-08 11:58:13</td>\n",
       "      <td>4687</td>\n",
       "      <td>329.0</td>\n",
       "      <td>18</td>\n",
       "      <td>Wacker Dr &amp; Washington St</td>\n",
       "      <td>39</td>\n",
       "      <td>Wabash Ave &amp; Adams St</td>\n",
       "      <td>Subscriber</td>\n",
       "      <td>Male</td>\n",
       "      <td>1979.0</td>\n",
       "    </tr>\n",
       "    <tr>\n",
       "      <th>2018-03-22 17:18:21</th>\n",
       "      <td>17938644</td>\n",
       "      <td>2018-03-22 17:24:13</td>\n",
       "      <td>6200</td>\n",
       "      <td>352.0</td>\n",
       "      <td>59</td>\n",
       "      <td>Wabash Ave &amp; Roosevelt Rd</td>\n",
       "      <td>50</td>\n",
       "      <td>Clark St &amp; Congress Pkwy</td>\n",
       "      <td>Subscriber</td>\n",
       "      <td>Male</td>\n",
       "      <td>1968.0</td>\n",
       "    </tr>\n",
       "    <tr>\n",
       "      <th>2018-02-20 16:45:07</th>\n",
       "      <td>17738202</td>\n",
       "      <td>2018-02-20 16:57:42</td>\n",
       "      <td>757</td>\n",
       "      <td>755.0</td>\n",
       "      <td>99</td>\n",
       "      <td>Lake Shore Dr &amp; Ohio St</td>\n",
       "      <td>38</td>\n",
       "      <td>Clark St &amp; Lake St</td>\n",
       "      <td>Subscriber</td>\n",
       "      <td>Male</td>\n",
       "      <td>1990.0</td>\n",
       "    </tr>\n",
       "    <tr>\n",
       "      <th>2018-01-10 12:08:16</th>\n",
       "      <td>17566765</td>\n",
       "      <td>2018-01-10 12:20:31</td>\n",
       "      <td>4668</td>\n",
       "      <td>735.0</td>\n",
       "      <td>489</td>\n",
       "      <td>Drake Ave &amp; Addison St</td>\n",
       "      <td>500</td>\n",
       "      <td>Central Park Ave &amp; Elbridge Ave</td>\n",
       "      <td>Subscriber</td>\n",
       "      <td>Male</td>\n",
       "      <td>1980.0</td>\n",
       "    </tr>\n",
       "  </tbody>\n",
       "</table>\n",
       "<p>174215 rows × 11 columns</p>\n",
       "</div>"
      ],
      "text/plain": [
       "                      trip_id            end_time  bikeid tripduration  \\\n",
       "start_time                                                               \n",
       "2018-01-22 20:04:31  17617135 2018-01-22 20:11:53    1131        442.0   \n",
       "2018-03-16 19:47:59  17897619 2018-03-16 20:04:00    6146        961.0   \n",
       "2018-03-14 18:49:20  17881307 2018-03-14 18:54:38    3847        318.0   \n",
       "2018-03-14 18:33:48  17881130 2018-03-14 19:07:40    1483      2,032.0   \n",
       "2018-02-05 17:39:14  17686289 2018-02-05 17:46:13    6391        419.0   \n",
       "...                       ...                 ...     ...          ...   \n",
       "2018-02-28 17:16:53  17792363 2018-02-28 17:18:49    2401        116.0   \n",
       "2018-02-08 11:52:44  17695807 2018-02-08 11:58:13    4687        329.0   \n",
       "2018-03-22 17:18:21  17938644 2018-03-22 17:24:13    6200        352.0   \n",
       "2018-02-20 16:45:07  17738202 2018-02-20 16:57:42     757        755.0   \n",
       "2018-01-10 12:08:16  17566765 2018-01-10 12:20:31    4668        735.0   \n",
       "\n",
       "                     from_station_id           from_station_name  \\\n",
       "start_time                                                         \n",
       "2018-01-22 20:04:31              471  Francisco Ave & Foster Ave   \n",
       "2018-03-16 19:47:59              296      Broadway & Belmont Ave   \n",
       "2018-03-14 18:49:20              260  Kedzie Ave & Milwaukee Ave   \n",
       "2018-03-14 18:33:48              199      Wabash Ave & Grand Ave   \n",
       "2018-02-05 17:39:14              596      Benson Ave & Church St   \n",
       "...                              ...                         ...   \n",
       "2018-02-28 17:16:53               50    Clark St & Congress Pkwy   \n",
       "2018-02-08 11:52:44               18   Wacker Dr & Washington St   \n",
       "2018-03-22 17:18:21               59   Wabash Ave & Roosevelt Rd   \n",
       "2018-02-20 16:45:07               99     Lake Shore Dr & Ohio St   \n",
       "2018-01-10 12:08:16              489      Drake Ave & Addison St   \n",
       "\n",
       "                     to_station_id                  to_station_name  \\\n",
       "start_time                                                            \n",
       "2018-01-22 20:04:31            468            Budlong Woods Library   \n",
       "2018-03-16 19:47:59            253      Winthrop Ave & Lawrence Ave   \n",
       "2018-03-14 18:49:20            503        Drake Ave & Fullerton Ave   \n",
       "2018-03-14 18:33:48            199           Wabash Ave & Grand Ave   \n",
       "2018-02-05 17:39:14            605          University Library (NU)   \n",
       "...                            ...                              ...   \n",
       "2018-02-28 17:16:53             41             Federal St & Polk St   \n",
       "2018-02-08 11:52:44             39            Wabash Ave & Adams St   \n",
       "2018-03-22 17:18:21             50         Clark St & Congress Pkwy   \n",
       "2018-02-20 16:45:07             38               Clark St & Lake St   \n",
       "2018-01-10 12:08:16            500  Central Park Ave & Elbridge Ave   \n",
       "\n",
       "                       usertype  gender  birthyear  \n",
       "start_time                                          \n",
       "2018-01-22 20:04:31  Subscriber  Female     1949.0  \n",
       "2018-03-16 19:47:59  Subscriber    Male     1988.0  \n",
       "2018-03-14 18:49:20  Subscriber    Male     1987.0  \n",
       "2018-03-14 18:33:48  Subscriber    Male     1990.0  \n",
       "2018-02-05 17:39:14  Subscriber    Male     1992.0  \n",
       "...                         ...     ...        ...  \n",
       "2018-02-28 17:16:53  Subscriber    Male     1991.0  \n",
       "2018-02-08 11:52:44  Subscriber    Male     1979.0  \n",
       "2018-03-22 17:18:21  Subscriber    Male     1968.0  \n",
       "2018-02-20 16:45:07  Subscriber    Male     1990.0  \n",
       "2018-01-10 12:08:16  Subscriber    Male     1980.0  \n",
       "\n",
       "[174215 rows x 11 columns]"
      ]
     },
     "execution_count": 20,
     "metadata": {},
     "output_type": "execute_result"
    }
   ],
   "source": [
    "bikc_df"
   ]
  },
  {
   "cell_type": "code",
   "execution_count": 27,
   "metadata": {},
   "outputs": [
    {
     "data": {
      "text/plain": [
       "4196"
      ]
     },
     "execution_count": 27,
     "metadata": {},
     "output_type": "execute_result"
    }
   ],
   "source": [
    "# Собираем данные за 1 день и после находим максимальное кол-во аренд в день, для этого агрегируем по count\n",
    "bikc_df.resample(rule='D').count().end_time.max()"
   ]
  },
  {
   "cell_type": "code",
   "execution_count": 39,
   "metadata": {},
   "outputs": [],
   "source": [
    "# Новый датафрейм для нового задания\n",
    "bikes_april = pd.read_csv('C:/Users/1233-/Downloads/bikes_april.csv', parse_dates=['start_time', 'end_time'])"
   ]
  },
  {
   "cell_type": "code",
   "execution_count": 40,
   "metadata": {},
   "outputs": [],
   "source": [
    "bikes_april = bikes_april.set_index('start_time')"
   ]
  },
  {
   "cell_type": "code",
   "execution_count": 41,
   "metadata": {},
   "outputs": [],
   "source": [
    "# Группируем по типу и после делаем ресемпл по 1 дню\n",
    "ned_usertype = bikes_april.groupby('usertype').resample('1d').count()"
   ]
  },
  {
   "cell_type": "code",
   "execution_count": 45,
   "metadata": {},
   "outputs": [
    {
     "data": {
      "text/plain": [
       "usertype    start_time\n",
       "Subscriber  2018-04-18    2196\n",
       "Name: trip_id, dtype: int64"
      ]
     },
     "execution_count": 45,
     "metadata": {},
     "output_type": "execute_result"
    }
   ],
   "source": [
    "# Чтобы взять определенное значение от фрейма с мультииндексом нужно в метод передать картеж из значений\n",
    "ned_usertype.loc[('Subscriber', '2018-04-18'), 'trip_id']"
   ]
  },
  {
   "cell_type": "code",
   "execution_count": 46,
   "metadata": {},
   "outputs": [],
   "source": [
    "# Импортируем библиотеку для обхода по файлам\n",
    "from pathlib import Path"
   ]
  },
  {
   "cell_type": "code",
   "execution_count": 48,
   "metadata": {},
   "outputs": [],
   "source": [
    "path = r'C:\\Users\\1233-\\Downloads\\bk'"
   ]
  },
  {
   "cell_type": "code",
   "execution_count": 49,
   "metadata": {},
   "outputs": [],
   "source": [
    "path_way = Path(path)"
   ]
  },
  {
   "cell_type": "code",
   "execution_count": 82,
   "metadata": {},
   "outputs": [],
   "source": [
    "bikes = pd.DataFrame()"
   ]
  },
  {
   "cell_type": "code",
   "execution_count": 83,
   "metadata": {},
   "outputs": [],
   "source": [
    "# считываем данные в один датафрейм\n",
    "for i in path_way.glob('**/*.csv'):\n",
    "    \n",
    "    df = pd.read_csv(i)\n",
    "    bikes = pd.concat([bikes, df])"
   ]
  },
  {
   "cell_type": "code",
   "execution_count": 55,
   "metadata": {},
   "outputs": [
    {
     "data": {
      "text/html": [
       "<div>\n",
       "<style scoped>\n",
       "    .dataframe tbody tr th:only-of-type {\n",
       "        vertical-align: middle;\n",
       "    }\n",
       "\n",
       "    .dataframe tbody tr th {\n",
       "        vertical-align: top;\n",
       "    }\n",
       "\n",
       "    .dataframe thead th {\n",
       "        text-align: right;\n",
       "    }\n",
       "</style>\n",
       "<table border=\"1\" class=\"dataframe\">\n",
       "  <thead>\n",
       "    <tr style=\"text-align: right;\">\n",
       "      <th></th>\n",
       "      <th>trip_id</th>\n",
       "      <th>start_time</th>\n",
       "      <th>end_time</th>\n",
       "      <th>bikeid</th>\n",
       "      <th>tripduration</th>\n",
       "      <th>from_station_id</th>\n",
       "      <th>from_station_name</th>\n",
       "      <th>to_station_id</th>\n",
       "      <th>to_station_name</th>\n",
       "      <th>usertype</th>\n",
       "      <th>gender</th>\n",
       "      <th>birthyear</th>\n",
       "    </tr>\n",
       "  </thead>\n",
       "  <tbody>\n",
       "    <tr>\n",
       "      <th>0</th>\n",
       "      <td>18000534</td>\n",
       "      <td>2018-04-01 00:17:00</td>\n",
       "      <td>2018-04-01 00:22:53</td>\n",
       "      <td>1323</td>\n",
       "      <td>353.0</td>\n",
       "      <td>130</td>\n",
       "      <td>Damen Ave &amp; Division St</td>\n",
       "      <td>69</td>\n",
       "      <td>Damen Ave &amp; Pierce Ave</td>\n",
       "      <td>Subscriber</td>\n",
       "      <td>Male</td>\n",
       "      <td>1991.0</td>\n",
       "    </tr>\n",
       "    <tr>\n",
       "      <th>1</th>\n",
       "      <td>18000536</td>\n",
       "      <td>2018-04-01 00:20:00</td>\n",
       "      <td>2018-04-01 00:26:22</td>\n",
       "      <td>2602</td>\n",
       "      <td>382.0</td>\n",
       "      <td>121</td>\n",
       "      <td>Blackstone Ave &amp; Hyde Park Blvd</td>\n",
       "      <td>351</td>\n",
       "      <td>Cottage Grove Ave &amp; 51st St</td>\n",
       "      <td>Subscriber</td>\n",
       "      <td>Female</td>\n",
       "      <td>1992.0</td>\n",
       "    </tr>\n",
       "    <tr>\n",
       "      <th>2</th>\n",
       "      <td>18000538</td>\n",
       "      <td>2018-04-01 00:23:19</td>\n",
       "      <td>2018-04-01 00:35:01</td>\n",
       "      <td>4213</td>\n",
       "      <td>702.0</td>\n",
       "      <td>31</td>\n",
       "      <td>Franklin St &amp; Chicago Ave</td>\n",
       "      <td>180</td>\n",
       "      <td>Ritchie Ct &amp; Banks St</td>\n",
       "      <td>Subscriber</td>\n",
       "      <td>Male</td>\n",
       "      <td>1985.0</td>\n",
       "    </tr>\n",
       "    <tr>\n",
       "      <th>3</th>\n",
       "      <td>18000540</td>\n",
       "      <td>2018-04-01 00:24:46</td>\n",
       "      <td>2018-04-01 00:44:23</td>\n",
       "      <td>6401</td>\n",
       "      <td>1,177.0</td>\n",
       "      <td>596</td>\n",
       "      <td>Benson Ave &amp; Church St</td>\n",
       "      <td>517</td>\n",
       "      <td>Clark St &amp; Jarvis Ave</td>\n",
       "      <td>Subscriber</td>\n",
       "      <td>Male</td>\n",
       "      <td>1974.0</td>\n",
       "    </tr>\n",
       "    <tr>\n",
       "      <th>4</th>\n",
       "      <td>18000541</td>\n",
       "      <td>2018-04-01 00:26:04</td>\n",
       "      <td>2018-04-01 00:31:05</td>\n",
       "      <td>6333</td>\n",
       "      <td>301.0</td>\n",
       "      <td>145</td>\n",
       "      <td>Mies van der Rohe Way &amp; Chestnut St</td>\n",
       "      <td>24</td>\n",
       "      <td>Fairbanks Ct &amp; Grand Ave</td>\n",
       "      <td>Subscriber</td>\n",
       "      <td>Male</td>\n",
       "      <td>1984.0</td>\n",
       "    </tr>\n",
       "  </tbody>\n",
       "</table>\n",
       "</div>"
      ],
      "text/plain": [
       "    trip_id           start_time             end_time  bikeid tripduration  \\\n",
       "0  18000534  2018-04-01 00:17:00  2018-04-01 00:22:53    1323        353.0   \n",
       "1  18000536  2018-04-01 00:20:00  2018-04-01 00:26:22    2602        382.0   \n",
       "2  18000538  2018-04-01 00:23:19  2018-04-01 00:35:01    4213        702.0   \n",
       "3  18000540  2018-04-01 00:24:46  2018-04-01 00:44:23    6401      1,177.0   \n",
       "4  18000541  2018-04-01 00:26:04  2018-04-01 00:31:05    6333        301.0   \n",
       "\n",
       "   from_station_id                    from_station_name  to_station_id  \\\n",
       "0              130              Damen Ave & Division St             69   \n",
       "1              121      Blackstone Ave & Hyde Park Blvd            351   \n",
       "2               31            Franklin St & Chicago Ave            180   \n",
       "3              596               Benson Ave & Church St            517   \n",
       "4              145  Mies van der Rohe Way & Chestnut St             24   \n",
       "\n",
       "               to_station_name    usertype  gender  birthyear  \n",
       "0       Damen Ave & Pierce Ave  Subscriber    Male     1991.0  \n",
       "1  Cottage Grove Ave & 51st St  Subscriber  Female     1992.0  \n",
       "2        Ritchie Ct & Banks St  Subscriber    Male     1985.0  \n",
       "3        Clark St & Jarvis Ave  Subscriber    Male     1974.0  \n",
       "4     Fairbanks Ct & Grand Ave  Subscriber    Male     1984.0  "
      ]
     },
     "execution_count": 55,
     "metadata": {},
     "output_type": "execute_result"
    }
   ],
   "source": [
    "bikes.head()"
   ]
  },
  {
   "cell_type": "code",
   "execution_count": 56,
   "metadata": {},
   "outputs": [
    {
     "data": {
      "text/plain": [
       "(964781, 12)"
      ]
     },
     "execution_count": 56,
     "metadata": {},
     "output_type": "execute_result"
    }
   ],
   "source": [
    "bikes.shape"
   ]
  },
  {
   "cell_type": "code",
   "execution_count": 84,
   "metadata": {},
   "outputs": [],
   "source": [
    "# Делаем преобразование по дате\n",
    "bikes[['start_time', 'end_time']] = bikes[['start_time', 'end_time']].apply(pd.to_datetime)"
   ]
  },
  {
   "cell_type": "code",
   "execution_count": 85,
   "metadata": {},
   "outputs": [],
   "source": [
    "# Заводим новый индекс\n",
    "bikes = bikes.set_index('start_time')"
   ]
  },
  {
   "cell_type": "code",
   "execution_count": 86,
   "metadata": {},
   "outputs": [],
   "source": [
    "# Групперуем по типу и делаем сэмпл по 1 дню\n",
    "typ_date_group = bikes.groupby('usertype',) \\\n",
    "            .trip_id \\\n",
    "            .resample('1d').count()"
   ]
  },
  {
   "cell_type": "code",
   "execution_count": 87,
   "metadata": {},
   "outputs": [],
   "source": [
    "# Разносим значения на две колонки по типу пользователей\n",
    "typ_date_group = typ_date_group.unstack(level='usertype')"
   ]
  },
  {
   "cell_type": "code",
   "execution_count": 88,
   "metadata": {},
   "outputs": [
    {
     "data": {
      "text/html": [
       "<div>\n",
       "<style scoped>\n",
       "    .dataframe tbody tr th:only-of-type {\n",
       "        vertical-align: middle;\n",
       "    }\n",
       "\n",
       "    .dataframe tbody tr th {\n",
       "        vertical-align: top;\n",
       "    }\n",
       "\n",
       "    .dataframe thead th {\n",
       "        text-align: right;\n",
       "    }\n",
       "</style>\n",
       "<table border=\"1\" class=\"dataframe\">\n",
       "  <thead>\n",
       "    <tr style=\"text-align: right;\">\n",
       "      <th>usertype</th>\n",
       "      <th>Customer</th>\n",
       "      <th>Subscriber</th>\n",
       "    </tr>\n",
       "    <tr>\n",
       "      <th>start_time</th>\n",
       "      <th></th>\n",
       "      <th></th>\n",
       "    </tr>\n",
       "  </thead>\n",
       "  <tbody>\n",
       "    <tr>\n",
       "      <th>2018-05-27</th>\n",
       "      <td>3263</td>\n",
       "      <td>2449</td>\n",
       "    </tr>\n",
       "    <tr>\n",
       "      <th>2018-09-02</th>\n",
       "      <td>2752</td>\n",
       "      <td>2183</td>\n",
       "    </tr>\n",
       "  </tbody>\n",
       "</table>\n",
       "</div>"
      ],
      "text/plain": [
       "usertype    Customer  Subscriber\n",
       "start_time                      \n",
       "2018-05-27      3263        2449\n",
       "2018-09-02      2752        2183"
      ]
     },
     "execution_count": 88,
     "metadata": {},
     "output_type": "execute_result"
    }
   ],
   "source": [
    "# Через булеву маску находим нужное нам значение\n",
    "typ_date_group[typ_date_group.Customer > typ_date_group.Subscriber]"
   ]
  },
  {
   "cell_type": "code",
   "execution_count": 89,
   "metadata": {},
   "outputs": [
    {
     "data": {
      "text/html": [
       "<div>\n",
       "<style scoped>\n",
       "    .dataframe tbody tr th:only-of-type {\n",
       "        vertical-align: middle;\n",
       "    }\n",
       "\n",
       "    .dataframe tbody tr th {\n",
       "        vertical-align: top;\n",
       "    }\n",
       "\n",
       "    .dataframe thead th {\n",
       "        text-align: right;\n",
       "    }\n",
       "</style>\n",
       "<table border=\"1\" class=\"dataframe\">\n",
       "  <thead>\n",
       "    <tr style=\"text-align: right;\">\n",
       "      <th></th>\n",
       "      <th>done</th>\n",
       "    </tr>\n",
       "    <tr>\n",
       "      <th>start_time</th>\n",
       "      <th></th>\n",
       "    </tr>\n",
       "  </thead>\n",
       "  <tbody>\n",
       "    <tr>\n",
       "      <th>2018-05-27</th>\n",
       "      <td>True</td>\n",
       "    </tr>\n",
       "    <tr>\n",
       "      <th>2018-09-02</th>\n",
       "      <td>True</td>\n",
       "    </tr>\n",
       "  </tbody>\n",
       "</table>\n",
       "</div>"
      ],
      "text/plain": [
       "            done\n",
       "start_time      \n",
       "2018-05-27  True\n",
       "2018-09-02  True"
      ]
     },
     "execution_count": 89,
     "metadata": {},
     "output_type": "execute_result"
    }
   ],
   "source": [
    "# Второй вариант через query\n",
    "(typ_date_group.Customer > typ_date_group.Subscriber).to_frame(name='done').query('done == True')"
   ]
  },
  {
   "cell_type": "code",
   "execution_count": 90,
   "metadata": {},
   "outputs": [
    {
     "data": {
      "text/html": [
       "<div>\n",
       "<style scoped>\n",
       "    .dataframe tbody tr th:only-of-type {\n",
       "        vertical-align: middle;\n",
       "    }\n",
       "\n",
       "    .dataframe tbody tr th {\n",
       "        vertical-align: top;\n",
       "    }\n",
       "\n",
       "    .dataframe thead th {\n",
       "        text-align: right;\n",
       "    }\n",
       "</style>\n",
       "<table border=\"1\" class=\"dataframe\">\n",
       "  <thead>\n",
       "    <tr style=\"text-align: right;\">\n",
       "      <th></th>\n",
       "      <th>trip_id</th>\n",
       "      <th>end_time</th>\n",
       "      <th>bikeid</th>\n",
       "      <th>tripduration</th>\n",
       "      <th>from_station_id</th>\n",
       "      <th>from_station_name</th>\n",
       "      <th>to_station_id</th>\n",
       "      <th>to_station_name</th>\n",
       "      <th>usertype</th>\n",
       "      <th>gender</th>\n",
       "      <th>birthyear</th>\n",
       "    </tr>\n",
       "    <tr>\n",
       "      <th>start_time</th>\n",
       "      <th></th>\n",
       "      <th></th>\n",
       "      <th></th>\n",
       "      <th></th>\n",
       "      <th></th>\n",
       "      <th></th>\n",
       "      <th></th>\n",
       "      <th></th>\n",
       "      <th></th>\n",
       "      <th></th>\n",
       "      <th></th>\n",
       "    </tr>\n",
       "  </thead>\n",
       "  <tbody>\n",
       "    <tr>\n",
       "      <th>2018-04-01 00:17:00</th>\n",
       "      <td>18000534</td>\n",
       "      <td>2018-04-01 00:22:53</td>\n",
       "      <td>1323</td>\n",
       "      <td>353.0</td>\n",
       "      <td>130</td>\n",
       "      <td>Damen Ave &amp; Division St</td>\n",
       "      <td>69</td>\n",
       "      <td>Damen Ave &amp; Pierce Ave</td>\n",
       "      <td>Subscriber</td>\n",
       "      <td>Male</td>\n",
       "      <td>1991.0</td>\n",
       "    </tr>\n",
       "    <tr>\n",
       "      <th>2018-04-01 00:20:00</th>\n",
       "      <td>18000536</td>\n",
       "      <td>2018-04-01 00:26:22</td>\n",
       "      <td>2602</td>\n",
       "      <td>382.0</td>\n",
       "      <td>121</td>\n",
       "      <td>Blackstone Ave &amp; Hyde Park Blvd</td>\n",
       "      <td>351</td>\n",
       "      <td>Cottage Grove Ave &amp; 51st St</td>\n",
       "      <td>Subscriber</td>\n",
       "      <td>Female</td>\n",
       "      <td>1992.0</td>\n",
       "    </tr>\n",
       "    <tr>\n",
       "      <th>2018-04-01 00:23:19</th>\n",
       "      <td>18000538</td>\n",
       "      <td>2018-04-01 00:35:01</td>\n",
       "      <td>4213</td>\n",
       "      <td>702.0</td>\n",
       "      <td>31</td>\n",
       "      <td>Franklin St &amp; Chicago Ave</td>\n",
       "      <td>180</td>\n",
       "      <td>Ritchie Ct &amp; Banks St</td>\n",
       "      <td>Subscriber</td>\n",
       "      <td>Male</td>\n",
       "      <td>1985.0</td>\n",
       "    </tr>\n",
       "    <tr>\n",
       "      <th>2018-04-01 00:24:46</th>\n",
       "      <td>18000540</td>\n",
       "      <td>2018-04-01 00:44:23</td>\n",
       "      <td>6401</td>\n",
       "      <td>1,177.0</td>\n",
       "      <td>596</td>\n",
       "      <td>Benson Ave &amp; Church St</td>\n",
       "      <td>517</td>\n",
       "      <td>Clark St &amp; Jarvis Ave</td>\n",
       "      <td>Subscriber</td>\n",
       "      <td>Male</td>\n",
       "      <td>1974.0</td>\n",
       "    </tr>\n",
       "    <tr>\n",
       "      <th>2018-04-01 00:26:04</th>\n",
       "      <td>18000541</td>\n",
       "      <td>2018-04-01 00:31:05</td>\n",
       "      <td>6333</td>\n",
       "      <td>301.0</td>\n",
       "      <td>145</td>\n",
       "      <td>Mies van der Rohe Way &amp; Chestnut St</td>\n",
       "      <td>24</td>\n",
       "      <td>Fairbanks Ct &amp; Grand Ave</td>\n",
       "      <td>Subscriber</td>\n",
       "      <td>Male</td>\n",
       "      <td>1984.0</td>\n",
       "    </tr>\n",
       "  </tbody>\n",
       "</table>\n",
       "</div>"
      ],
      "text/plain": [
       "                      trip_id            end_time  bikeid tripduration  \\\n",
       "start_time                                                               \n",
       "2018-04-01 00:17:00  18000534 2018-04-01 00:22:53    1323        353.0   \n",
       "2018-04-01 00:20:00  18000536 2018-04-01 00:26:22    2602        382.0   \n",
       "2018-04-01 00:23:19  18000538 2018-04-01 00:35:01    4213        702.0   \n",
       "2018-04-01 00:24:46  18000540 2018-04-01 00:44:23    6401      1,177.0   \n",
       "2018-04-01 00:26:04  18000541 2018-04-01 00:31:05    6333        301.0   \n",
       "\n",
       "                     from_station_id                    from_station_name  \\\n",
       "start_time                                                                  \n",
       "2018-04-01 00:17:00              130              Damen Ave & Division St   \n",
       "2018-04-01 00:20:00              121      Blackstone Ave & Hyde Park Blvd   \n",
       "2018-04-01 00:23:19               31            Franklin St & Chicago Ave   \n",
       "2018-04-01 00:24:46              596               Benson Ave & Church St   \n",
       "2018-04-01 00:26:04              145  Mies van der Rohe Way & Chestnut St   \n",
       "\n",
       "                     to_station_id              to_station_name    usertype  \\\n",
       "start_time                                                                    \n",
       "2018-04-01 00:17:00             69       Damen Ave & Pierce Ave  Subscriber   \n",
       "2018-04-01 00:20:00            351  Cottage Grove Ave & 51st St  Subscriber   \n",
       "2018-04-01 00:23:19            180        Ritchie Ct & Banks St  Subscriber   \n",
       "2018-04-01 00:24:46            517        Clark St & Jarvis Ave  Subscriber   \n",
       "2018-04-01 00:26:04             24     Fairbanks Ct & Grand Ave  Subscriber   \n",
       "\n",
       "                     gender  birthyear  \n",
       "start_time                              \n",
       "2018-04-01 00:17:00    Male     1991.0  \n",
       "2018-04-01 00:20:00  Female     1992.0  \n",
       "2018-04-01 00:23:19    Male     1985.0  \n",
       "2018-04-01 00:24:46    Male     1974.0  \n",
       "2018-04-01 00:26:04    Male     1984.0  "
      ]
     },
     "execution_count": 90,
     "metadata": {},
     "output_type": "execute_result"
    }
   ],
   "source": [
    "bikes.head()"
   ]
  },
  {
   "cell_type": "code",
   "execution_count": 91,
   "metadata": {},
   "outputs": [],
   "source": [
    "# Сохранить наблюдения только за летние месяцы\n",
    "bikes_summer = bikes.loc[bikes.index[pd.Series(bikes.index.month).isin([6, 7, 8])]]"
   ]
  },
  {
   "cell_type": "code",
   "execution_count": 104,
   "metadata": {},
   "outputs": [],
   "source": [
    "# Тот же рузультат но более простой сопособ\n",
    "bikes_summer_2 = bikes.loc['2018-06-01': '2018-08-31']"
   ]
  },
  {
   "cell_type": "code",
   "execution_count": 105,
   "metadata": {},
   "outputs": [
    {
     "data": {
      "text/plain": [
       "'Streeter Dr & Grand Ave'"
      ]
     },
     "execution_count": 105,
     "metadata": {},
     "output_type": "execute_result"
    }
   ],
   "source": [
    "# Отбираем наиболее популярный путь назначения\n",
    "bikes_summer.groupby('to_station_name').agg({'to_station_id': 'count'}).to_station_id.idxmax()"
   ]
  },
  {
   "cell_type": "code",
   "execution_count": 106,
   "metadata": {},
   "outputs": [
    {
     "data": {
      "text/plain": [
       "'Streeter Dr & Grand Ave'"
      ]
     },
     "execution_count": 106,
     "metadata": {},
     "output_type": "execute_result"
    }
   ],
   "source": [
    "# Другое решение с аналогичным результатом\n",
    "bikes_summer.to_station_name.value_counts().idxmax()"
   ]
  },
  {
   "cell_type": "code",
   "execution_count": 97,
   "metadata": {},
   "outputs": [],
   "source": [
    "top_destination = 'Streeter Dr & Grand Ave'"
   ]
  },
  {
   "cell_type": "code",
   "execution_count": 107,
   "metadata": {},
   "outputs": [],
   "source": [
    "# Груперуем по дню\n",
    "state_name = bikes_summer.groupby('to_station_name').resample('1d').count()"
   ]
  },
  {
   "cell_type": "code",
   "execution_count": 108,
   "metadata": {},
   "outputs": [
    {
     "data": {
      "text/plain": [
       "'2018-06-21'"
      ]
     },
     "execution_count": 108,
     "metadata": {},
     "output_type": "execute_result"
    }
   ],
   "source": [
    "# Выбираем нужное нам значение\n",
    "state_name.loc[(top_destination)].trip_id.idxmin().strftime('%Y-%m-%d')"
   ]
  },
  {
   "cell_type": "code",
   "execution_count": 103,
   "metadata": {},
   "outputs": [],
   "source": [
    "bad_day = state_name.loc[(top_destination)].trip_id.idxmin().strftime('%Y-%m-%d')"
   ]
  },
  {
   "cell_type": "code",
   "execution_count": 117,
   "metadata": {},
   "outputs": [],
   "source": []
  },
  {
   "cell_type": "code",
   "execution_count": 121,
   "metadata": {},
   "outputs": [],
   "source": [
    "bikes_summer_2['day'] = bikes_summer_2.index.day_name()"
   ]
  },
  {
   "cell_type": "code",
   "execution_count": 123,
   "metadata": {},
   "outputs": [
    {
     "data": {
      "text/plain": [
       "array(['Friday', 'Saturday', 'Sunday', 'Monday', 'Tuesday', 'Wednesday',\n",
       "       'Thursday'], dtype=object)"
      ]
     },
     "execution_count": 123,
     "metadata": {},
     "output_type": "execute_result"
    }
   ],
   "source": [
    "bikes_summer_2.day.unique()"
   ]
  },
  {
   "cell_type": "code",
   "execution_count": 124,
   "metadata": {},
   "outputs": [],
   "source": [
    "holidays = ['Saturday', 'Sunday']\n",
    "mondane = ['Friday', 'Monday', 'Tuesday', 'Wednesday','Thursday']"
   ]
  },
  {
   "cell_type": "code",
   "execution_count": 126,
   "metadata": {},
   "outputs": [],
   "source": [
    "bikes_summer_2['holiday'] = np.where(bikes_summer_2.day.isin(mondane), 1 , 0)"
   ]
  },
  {
   "cell_type": "code",
   "execution_count": 130,
   "metadata": {},
   "outputs": [
    {
     "data": {
      "text/plain": [
       "Streeter Dr & Grand Ave       3461\n",
       "Lake Shore Dr & North Blvd    1690\n",
       "Theater on the Lake           1470\n",
       "Lake Shore Dr & Monroe St     1232\n",
       "Millennium Park               1080\n",
       "                              ... \n",
       "Ellis Ave & 83rd St              1\n",
       "Perry Ave & 69th St              1\n",
       "Halsted St & 47th Pl             1\n",
       "Damen Ave & 51st St              1\n",
       "Cicero Ave & Flournoy St         1\n",
       "Name: to_station_name, Length: 557, dtype: int64"
      ]
     },
     "execution_count": 130,
     "metadata": {},
     "output_type": "execute_result"
    }
   ],
   "source": [
    "bikes_summer_2.query('day == \"Saturday\"').to_station_name.value_counts()"
   ]
  },
  {
   "cell_type": "code",
   "execution_count": 131,
   "metadata": {},
   "outputs": [
    {
     "data": {
      "text/plain": [
       "Streeter Dr & Grand Ave         7614\n",
       "Canal St & Adams St             6142\n",
       "Clinton St & Washington Blvd    4857\n",
       "Clinton St & Madison St         4694\n",
       "Lake Shore Dr & North Blvd      4213\n",
       "                                ... \n",
       "Cicero Ave & Flournoy St           2\n",
       "Laramie Ave & Kinzie St            2\n",
       "Central Ave & Madison St           1\n",
       "Throop St & 52nd St                1\n",
       "Marion St & South Blvd             1\n",
       "Name: to_station_name, Length: 578, dtype: int64"
      ]
     },
     "execution_count": 131,
     "metadata": {},
     "output_type": "execute_result"
    }
   ],
   "source": [
    "bikes_summer_2.query('holiday == 1').to_station_name.value_counts()"
   ]
  },
  {
   "cell_type": "code",
   "execution_count": null,
   "metadata": {},
   "outputs": [],
   "source": []
  }
 ],
 "metadata": {
  "kernelspec": {
   "display_name": "Python 3",
   "language": "python",
   "name": "python3"
  },
  "language_info": {
   "codemirror_mode": {
    "name": "ipython",
    "version": 3
   },
   "file_extension": ".py",
   "mimetype": "text/x-python",
   "name": "python",
   "nbconvert_exporter": "python",
   "pygments_lexer": "ipython3",
   "version": "3.8.5"
  }
 },
 "nbformat": 4,
 "nbformat_minor": 4
}
